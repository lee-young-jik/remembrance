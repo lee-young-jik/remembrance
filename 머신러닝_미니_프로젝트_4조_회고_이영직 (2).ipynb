{
  "cells": [
    {
      "cell_type": "markdown",
      "id": "ac2aaa8b",
      "metadata": {
        "id": "ac2aaa8b"
      },
      "source": [
        "#머신러닝 미니 프로젝트_4조_회고\n",
        "\n",
        "\n"
      ]
    },
    {
      "cell_type": "markdown",
      "id": "7141f27e",
      "metadata": {
        "id": "7141f27e"
      },
      "source": [
        "## 1. 프로젝트 소개\n",
        "---\n",
        "- 프로젝트 주제 : 구매 데이터를 통한 구매 예측 및 쿠폰 추천\n",
        "- 프로젝트 기간 : 2023.06.12 ~ 2023.06.23]\n",
        "- 팀원:이영직,김범기,김지현,이상훈,정은아\n",
        "\n",
        "*  주제선정 : 수업을 통해 배운 머신러닝과 딥러닝 내용을 활용하며 데이터 파이프라인 구성을 목표로 잡고 캐글에서 일본의 온라인 쇼핑몰 'ponpare몰'의  고객정보와 행동 이력을 기반으로 추천 모델을 만드는 것을 프로젝트의 주제로 선정 하였다.\n",
        "\n",
        "\n",
        "\n"
      ]
    },
    {
      "cell_type": "markdown",
      "source": [
        "#2 4L 회고\n",
        "\n",
        "\n",
        "---\n",
        "\n",
        "\n",
        "\n",
        "> Liked : 좋았던 점은 무엇인가?\n",
        "\n",
        "> Lacked : 아쉬웠던 점, 부족한 점은 무엇인가?\n",
        "\n",
        "> Learned : 배운 점은 무엇인가?\n",
        "\n",
        "> Longed for : 앞으로 바라는 것은 무엇인가?\n",
        "\n",
        "\n",
        "\n",
        "\n",
        "\n",
        "\n",
        "\n"
      ],
      "metadata": {
        "id": "6sP3NFEpvuhJ"
      },
      "id": "6sP3NFEpvuhJ"
    },
    {
      "cell_type": "markdown",
      "source": [
        "##2-1)LIKED\n",
        "\n",
        "\n",
        "---\n",
        "\n"
      ],
      "metadata": {
        "id": "vz5PyPyuvt-I"
      },
      "id": "vz5PyPyuvt-I"
    },
    {
      "cell_type": "markdown",
      "source": [
        "\n",
        "\n",
        "\n",
        "*   프로젝트 과정에서 진행 상황과 의사결정 과정을 기록으로남겨 이를 통해 나중에 다시 참고하거나 분석할 수 있었고, 개선할 점과 좋았던 점을 명확하게 파악할 수 있었다\n",
        "*   여러가지 모델을 비교하여 성능이 좋은 모델을 찾아내본 것\n",
        "*   비교적 덜 정제되고 대용량 데이터를 사용 해본 점\n",
        "*  완벽하지는 않지만 다양한 방법을 사용해 성능 개선이 조금이라도 된 점\n",
        "*   단순히 모델의 정확도가 높다고 좋은 모델로 판단하지 않고 발생 할 수 있는 문제점을 파악해본 점\n",
        "*   기획부터 협업 ppt 모든 것들을 주어진 형식 없이 진행 한 것\n",
        "\n",
        "\n",
        "\n",
        "\n",
        "\n",
        "\n",
        "\n",
        "\n",
        "\n"
      ],
      "metadata": {
        "id": "xUY6C54svt6x"
      },
      "id": "xUY6C54svt6x"
    },
    {
      "cell_type": "markdown",
      "id": "796ad7ba",
      "metadata": {
        "id": "796ad7ba"
      },
      "source": [
        "## 2-2) Lacked\n",
        "\n",
        "\n",
        "---\n",
        "\n",
        "\n",
        "- 데이터에 대한 도메인 이해가 부족했던점\n",
        "- 만족할만한 정확도와 결과까지는 도출하지 못한\n",
        "- 팀원들이 하나의 통일된 데이터로 진행하지 못했던 점\n",
        "-대용량의 데이터를 학습하는데 너무 오랜 시간이 걸려 제대로 된 하이퍼 파라미터 튜닝을 하지 못했던 점\n",
        "-더 많은 모델들을 적용시키지 못 했던 점 (ex-코사인 유사도)\n"
      ]
    },
    {
      "cell_type": "markdown",
      "source": [
        "## 2-3) Learned\n",
        "---\n",
        "-  모데 훈련 시 데이터의 편향이 있다면 그것을 해결해 줘야 한다는 것\n",
        "-  하이퍼파라미터 튜닝으로 과적합을 방지 할 수 있다는 것\n",
        "-  기술적인 스킬과 도구 활용:컨플루언스 사용을 통해 협업 툴에 대한 정보 습득\n"
      ],
      "metadata": {
        "id": "LbUwFcQnyoRE"
      },
      "id": "LbUwFcQnyoRE"
    },
    {
      "cell_type": "markdown",
      "id": "3318e40f",
      "metadata": {
        "id": "3318e40f"
      },
      "source": [
        "##2-4)Longed for\n",
        "\n",
        "\n",
        "---\n",
        "\n",
        "- 서로 커뮤니케이션을 더 적극적으로 해야 겠다\n",
        "- 팀원의 의견을 무조적인 비판적인 자세로 받아들이는 것이 아닌 열린 마음 갖기\n",
        "- 기존의 아는 것만 고수하는 것이 아닌 새로운 시도를 두려워 하지 않아야 겠다"
      ]
    },
    {
      "cell_type": "markdown",
      "source": [
        "#3.느낀점\n",
        "\n",
        "정해진 주제 없이 무엇을 해야 한다는 것은 조금은 부담스러운 상황이었다. 그러나 팀원들 모두가 적극적으로 의견을 제시하고 자신이 할 수 있는 일을 찾아가는 과정을 통해, 각자 자신의 장점과 부족한 점을 발견하고 성장할 수 있는 계기가 되었다.\n",
        "\n",
        "나 자신도 새로운 것을 배우고 시도하기보다는 이미 알고 있는 것들을 조합하려는 경향이 있다는 점을 깨달았다. 다음 번에는 새로운 시도를 통해 보다 개선된 결과를 도출해봐야 한다는 생각을 하게 되었다.\n",
        "\n",
        "또한, 평소에 기록의 중요성을 인지하지 못하고 있었는데, 이번 프로젝트를 통해 '컨플루언스'를 사용하여 기록하는 것의 중요성을 깨달았다. 앞으로 협업하거나 개인 프로젝트를 진행할 때에도 기록을 잘 남기는 습관을 갖도록 노력해야겠다. 이를 통해 더 나은 협업과 지속적인 개선을 이끌어낼 수 있을 것으로 기대한다."
      ],
      "metadata": {
        "id": "mLEpU8Qm-FC7"
      },
      "id": "mLEpU8Qm-FC7"
    },
    {
      "cell_type": "code",
      "execution_count": null,
      "id": "cecc1409",
      "metadata": {
        "id": "cecc1409"
      },
      "outputs": [],
      "source": []
    }
  ],
  "metadata": {
    "kernelspec": {
      "display_name": "Python 3 (ipykernel)",
      "language": "python",
      "name": "python3"
    },
    "language_info": {
      "codemirror_mode": {
        "name": "ipython",
        "version": 3
      },
      "file_extension": ".py",
      "mimetype": "text/x-python",
      "name": "python",
      "nbconvert_exporter": "python",
      "pygments_lexer": "ipython3",
      "version": "3.10.9"
    },
    "colab": {
      "provenance": [],
      "toc_visible": true
    }
  },
  "nbformat": 4,
  "nbformat_minor": 5
}